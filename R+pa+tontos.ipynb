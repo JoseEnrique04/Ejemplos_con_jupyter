{
 "cells": [
  {
   "cell_type": "markdown",
   "metadata": {},
   "source": [
    "# R pA  tONTOS"
   ]
  },
  {
   "cell_type": "markdown",
   "metadata": {},
   "source": [
    "# INTRODUCCION\n",
    "R es un lenguaje de programación muy potente, aporta un entorno de trabajo orientado a resolver principalmente problemas de Estadística y representación gráfica aunque últimamente las posibilidades se están extendiendo a otras áreas del cálculo numérico. A estos sistemas se les denomina a veces PSE, Problem Solving Environments, como Matlab, Mathematica, etc.).\n",
    "\n",
    "La principal ventajea de R es que es de uso libre en el dominio público, y resulta del esfuerzo cooperativo de personas e instituciones académicas relevantes relacionadas con la Estadística y la Computación en todo el mundo.\n",
    "El lenguaje utiliza elementos clásicos de programación, con funciones, instrucciones, expresiones aritméticas, lógicas, estructuras for, if, etc. Se puede trabajar tanto en modo programa, con un conjunto de instrucciones, como en modo de comandos interactivos. Ofrece un entorno básico interactivo a través de una ventana de diálogo llamada R Console, y otro paquete, R Commander, que ofrece más interactividad en sus menús para las aplicaciones estadísticas. \n",
    "La forma de trabajar y la potencialidad de R es muy parecida a otros lenguajes de programación de pago como puede ser Matlab. Da la posibilidad de trabajar en un entorno de trabajo más amigable con el usuario que otros lenguajes como son Fortran o C++.\n",
    "\n",
    "Se puede utilizar R directamente o combinado con otros programas que ofrecen la interface como es RStudio (que también es gratuito)\n",
    "\n",
    "Si no has trabajado nunca con lenguajes de programación y no has programado nunca, no te preocupes R es la solución para comenzar a trabajar. En este documento se dan las nociones básicas para descargarlo, instalarlo y dar los primeros pasos. En muchos sitios dicen “Aprende Ingles en 10 días”, “Aprende programación de APPs para móviles en 100 h” etc. etc. que por lo general no funciona ninguna. Aquí te aseguro que en 2 o 3 h y sin tener idea de programación puedes hacer tus primeros “pinitos” en R.\n",
    "\n",
    "# COMENCEMOS:\n",
    "\n",
    "##\tINSTALACION DE R:\n",
    "Estos son los pasos que se deben dar\n",
    "1.- Entrar en la página web: http://www.r-project.org/\n"
   ]
  },
  {
   "cell_type": "code",
   "execution_count": 2,
   "metadata": {
    "collapsed": true
   },
   "outputs": [],
   "source": [
    "setwd(\"C:/R/R pa tontos\")"
   ]
  },
  {
   "cell_type": "code",
   "execution_count": 3,
   "metadata": {},
   "outputs": [
    {
     "data": {
      "text/html": [
       "'C:/R/R pa tontos'"
      ],
      "text/latex": [
       "'C:/R/R pa tontos'"
      ],
      "text/markdown": [
       "'C:/R/R pa tontos'"
      ],
      "text/plain": [
       "[1] \"C:/R/R pa tontos\""
      ]
     },
     "metadata": {},
     "output_type": "display_data"
    }
   ],
   "source": [
    "getwd()"
   ]
  },
  {
   "cell_type": "markdown",
   "metadata": {},
   "source": [
    "## LIBRERIAS\n",
    "\n",
    "R está preparado para realizar infinidad de análisis por lo que trabaja con librerías que se cargan a gusto del programador. En la actualidad (diciembre 2017) hay más de 7000 librerías “packages” y esto sigue creciendo.\n",
    "\n",
    "Existen una serie de librerías que ya están cargadas por defecto y son las de uso mas común. Es posible que a la hora de cargar una librería nos de algún error porque dependa de otra que aún no esté cargada. Se carga la que falte y listo\n"
   ]
  },
  {
   "cell_type": "code",
   "execution_count": 4,
   "metadata": {
    "collapsed": true
   },
   "outputs": [],
   "source": [
    "require(datasets)\n",
    "\n",
    "require(grDevices); require(graphics)"
   ]
  },
  {
   "cell_type": "code",
   "execution_count": 5,
   "metadata": {},
   "outputs": [
    {
     "data": {
      "text/html": [],
      "text/latex": [],
      "text/markdown": [],
      "text/plain": [
       "integer(0)"
      ]
     },
     "metadata": {},
     "output_type": "display_data"
    },
    {
     "data": {
      "image/png": "[encoded data removed]",
      "text/plain": [
       "Plot with title \"Esto es un ejemplo de dibujo\""
      ]
     },
     "metadata": {},
     "output_type": "display_data"
    }
   ],
   "source": [
    "x <- stats::rnorm(50)\n",
    "opar <- par(bg = \"white\")\n",
    "plot(x, ann = FALSE, type = \"n\") +\n",
    "abline(h = 0, col = gray(.90)) +\n",
    "lines(x, col = \"green4\", lty = \"dotted\") +\n",
    "points(x, bg = \"limegreen\", pch = 21) +\n",
    "title(main = \"Esto es un ejemplo de dibujo\",\n",
    "       xlab = \"Etiqueta en las x\",\n",
    "       col.main = \"blue\", col.lab = gray(.8),\n",
    "       cex.main = 1.2, cex.lab = 1.0, font.main = 4, font.lab = 3)"
   ]
  },
  {
   "cell_type": "code",
   "execution_count": 6,
   "metadata": {},
   "outputs": [
    {
     "name": "stdout",
     "output_type": "stream",
     "text": [
      "¡Hola Mundo!\n"
     ]
    }
   ],
   "source": [
    "hola <- function() {cat(\"¡Hola Mundo!\\n\")}\n",
    "hola()"
   ]
  },
  {
   "cell_type": "markdown",
   "metadata": {},
   "source": [
    "## CALCULADORA\n",
    "Vamos a ver cómo usar R como una calculadora básica. En la ventana de comandos podemos utilizar R de la siguiente forma: \n"
   ]
  },
  {
   "cell_type": "code",
   "execution_count": 7,
   "metadata": {},
   "outputs": [
    {
     "data": {
      "text/html": [
       "107"
      ],
      "text/latex": [
       "107"
      ],
      "text/markdown": [
       "107"
      ],
      "text/plain": [
       "[1] 107"
      ]
     },
     "metadata": {},
     "output_type": "display_data"
    }
   ],
   "source": [
    "10^2 + 7"
   ]
  },
  {
   "cell_type": "markdown",
   "metadata": {},
   "source": [
    "##\tESPACIO DE TRABAJO “WORKSPACE”\n",
    "R trabaja principalmente con variables que pueden ser utilizadas más tarde la forma de asignación es a través de los simbolos “=” , “<-“ o “->” veamos varios ejemplos\n"
   ]
  },
  {
   "cell_type": "code",
   "execution_count": 8,
   "metadata": {},
   "outputs": [
    {
     "data": {
      "text/html": [
       "1"
      ],
      "text/latex": [
       "1"
      ],
      "text/markdown": [
       "1"
      ],
      "text/plain": [
       "[1] 1"
      ]
     },
     "metadata": {},
     "output_type": "display_data"
    }
   ],
   "source": [
    "a <- 1\n",
    "a"
   ]
  },
  {
   "cell_type": "code",
   "execution_count": 9,
   "metadata": {},
   "outputs": [
    {
     "data": {
      "text/html": [
       "2"
      ],
      "text/latex": [
       "2"
      ],
      "text/markdown": [
       "2"
      ],
      "text/plain": [
       "[1] 2"
      ]
     },
     "metadata": {},
     "output_type": "display_data"
    }
   ],
   "source": [
    "b = 2\n",
    "b"
   ]
  },
  {
   "cell_type": "code",
   "execution_count": 10,
   "metadata": {},
   "outputs": [
    {
     "data": {
      "text/html": [
       "3"
      ],
      "text/latex": [
       "3"
      ],
      "text/markdown": [
       "3"
      ],
      "text/plain": [
       "[1] 3"
      ]
     },
     "metadata": {},
     "output_type": "display_data"
    }
   ],
   "source": [
    "3->c\n",
    "c"
   ]
  },
  {
   "cell_type": "markdown",
   "metadata": {},
   "source": [
    "Algunas operaciones simples con variables"
   ]
  },
  {
   "cell_type": "code",
   "execution_count": 11,
   "metadata": {},
   "outputs": [
    {
     "data": {
      "text/html": [
       "10"
      ],
      "text/latex": [
       "10"
      ],
      "text/markdown": [
       "10"
      ],
      "text/plain": [
       "[1] 10"
      ]
     },
     "metadata": {},
     "output_type": "display_data"
    }
   ],
   "source": [
    "a=1\n",
    "b=2\n",
    "c=3; d=4\n",
    "a+b+c+d"
   ]
  },
  {
   "cell_type": "code",
   "execution_count": 12,
   "metadata": {},
   "outputs": [
    {
     "data": {
      "text/html": [
       "-3"
      ],
      "text/latex": [
       "-3"
      ],
      "text/markdown": [
       "-3"
      ],
      "text/plain": [
       "[1] -3"
      ]
     },
     "metadata": {},
     "output_type": "display_data"
    }
   ],
   "source": [
    "a-d"
   ]
  },
  {
   "cell_type": "code",
   "execution_count": 13,
   "metadata": {},
   "outputs": [
    {
     "data": {
      "text/html": [
       "0.75"
      ],
      "text/latex": [
       "0.75"
      ],
      "text/markdown": [
       "0.75"
      ],
      "text/plain": [
       "[1] 0.75"
      ]
     },
     "metadata": {},
     "output_type": "display_data"
    }
   ],
   "source": [
    "c/d"
   ]
  },
  {
   "cell_type": "code",
   "execution_count": 14,
   "metadata": {},
   "outputs": [
    {
     "data": {
      "text/html": [
       "1"
      ],
      "text/latex": [
       "1"
      ],
      "text/markdown": [
       "1"
      ],
      "text/plain": [
       "[1] 1"
      ]
     },
     "metadata": {},
     "output_type": "display_data"
    }
   ],
   "source": [
    "a"
   ]
  },
  {
   "cell_type": "code",
   "execution_count": 15,
   "metadata": {},
   "outputs": [
    {
     "data": {
      "text/html": [
       "2"
      ],
      "text/latex": [
       "2"
      ],
      "text/markdown": [
       "2"
      ],
      "text/plain": [
       "[1] 2"
      ]
     },
     "metadata": {},
     "output_type": "display_data"
    }
   ],
   "source": [
    "b"
   ]
  },
  {
   "cell_type": "code",
   "execution_count": 16,
   "metadata": {},
   "outputs": [
    {
     "data": {
      "text/html": [
       "6.28318530717959"
      ],
      "text/latex": [
       "6.28318530717959"
      ],
      "text/markdown": [
       "6.28318530717959"
      ],
      "text/plain": [
       "[1] 6.283185"
      ]
     },
     "metadata": {},
     "output_type": "display_data"
    }
   ],
   "source": [
    "2 * pi"
   ]
  },
  {
   "cell_type": "markdown",
   "metadata": {},
   "source": [
    "Para borrar objetos (variables) del espacio de trabajo (rm : Iniciales de remove) basta con escribir en la consola o ventana de comandos:"
   ]
  },
  {
   "cell_type": "code",
   "execution_count": 17,
   "metadata": {},
   "outputs": [
    {
     "ename": "ERROR",
     "evalue": "Error in eval(expr, envir, enclos): objeto 'a' no encontrado\n",
     "output_type": "error",
     "traceback": [
      "Error in eval(expr, envir, enclos): objeto 'a' no encontrado\nTraceback:\n"
     ]
    }
   ],
   "source": [
    "rm(list=ls())\n",
    "a"
   ]
  },
  {
   "cell_type": "markdown",
   "metadata": {},
   "source": [
    "Si luego tecleamos el nombre de una variable nos da un error\n",
    "Para ver los nombres de los objetos presentes en el espacio de trabajo R\n"
   ]
  },
  {
   "cell_type": "code",
   "execution_count": 18,
   "metadata": {},
   "outputs": [
    {
     "data": {
      "text/html": [
       "<ol class=list-inline>\n",
       "\t<li>'a'</li>\n",
       "\t<li>'b'</li>\n",
       "</ol>\n"
      ],
      "text/latex": [
       "\\begin{enumerate*}\n",
       "\\item 'a'\n",
       "\\item 'b'\n",
       "\\end{enumerate*}\n"
      ],
      "text/markdown": [
       "1. 'a'\n",
       "2. 'b'\n",
       "\n",
       "\n"
      ],
      "text/plain": [
       "[1] \"a\" \"b\""
      ]
     },
     "metadata": {},
     "output_type": "display_data"
    }
   ],
   "source": [
    "a=2;b=3.8\n",
    "ls()"
   ]
  },
  {
   "cell_type": "code",
   "execution_count": 19,
   "metadata": {},
   "outputs": [
    {
     "data": {
      "text/html": [
       "<ol class=list-inline>\n",
       "\t<li>'a'</li>\n",
       "\t<li>'b'</li>\n",
       "</ol>\n"
      ],
      "text/latex": [
       "\\begin{enumerate*}\n",
       "\\item 'a'\n",
       "\\item 'b'\n",
       "\\end{enumerate*}\n"
      ],
      "text/markdown": [
       "1. 'a'\n",
       "2. 'b'\n",
       "\n",
       "\n"
      ],
      "text/plain": [
       "[1] \"a\" \"b\""
      ]
     },
     "metadata": {},
     "output_type": "display_data"
    }
   ],
   "source": [
    "objects()"
   ]
  },
  {
   "cell_type": "markdown",
   "metadata": {},
   "source": [
    "Se pueden recuperar líneas de instrucciones introducidas anteriormente pulsando la tecla con la flecha ascendente del teclado, a fin de reejecutarlas o modificarlas.\n",
    "\n",
    "Para introducir comentarios se utiliza el símbolo #. Desde el carácter # al fin de línea es un comentario.\n",
    "Se puede poner más de una instrucción en una única línea poniendo el carácter “;”\n"
   ]
  },
  {
   "cell_type": "markdown",
   "metadata": {},
   "source": [
    "## ESCALARES VECTORES Y MATRICES\n",
    "Lo mismo que otros programa R Organiza los números en escalares (un simple número 0-Dimensional) vectores (una fila de números, dimensión 1) o en matrices (2 dimensiones o mas)\n",
    "\n",
    "Se pueden construir vectores. Construyamos un vector de nombre v y escribimos su valor en la ventana de R Console. La expresión c() significa el conjunto de valores dados entre paréntesis. \n"
   ]
  },
  {
   "cell_type": "code",
   "execution_count": 20,
   "metadata": {},
   "outputs": [
    {
     "data": {
      "text/html": [
       "<ol class=list-inline>\n",
       "\t<li>1</li>\n",
       "\t<li>2</li>\n",
       "\t<li>3</li>\n",
       "\t<li>4</li>\n",
       "\t<li>5</li>\n",
       "\t<li>6</li>\n",
       "</ol>\n"
      ],
      "text/latex": [
       "\\begin{enumerate*}\n",
       "\\item 1\n",
       "\\item 2\n",
       "\\item 3\n",
       "\\item 4\n",
       "\\item 5\n",
       "\\item 6\n",
       "\\end{enumerate*}\n"
      ],
      "text/markdown": [
       "1. 1\n",
       "2. 2\n",
       "3. 3\n",
       "4. 4\n",
       "5. 5\n",
       "6. 6\n",
       "\n",
       "\n"
      ],
      "text/plain": [
       "[1] 1 2 3 4 5 6"
      ]
     },
     "metadata": {},
     "output_type": "display_data"
    }
   ],
   "source": [
    "v=c(1,2,3,4,5,6);v "
   ]
  },
  {
   "cell_type": "markdown",
   "metadata": {},
   "source": [
    "En ocasiones dentro de una secuencia de datos ocurre que hay huecos, es decir, que faltan algunos y se desea reflejar dicha ausencia. \n",
    "El entorno R lo hace con el texto <NA> (Non Available, No Accesible). Y tiene mecanismos para gestionar su presencia. Citemos dos y su propio uso explica el funcionamiento:"
   ]
  },
  {
   "cell_type": "code",
   "execution_count": 21,
   "metadata": {},
   "outputs": [
    {
     "data": {
      "text/html": [
       "<ol class=list-inline>\n",
       "\t<li>1</li>\n",
       "\t<li>2</li>\n",
       "\t<li>&lt;NA&gt;</li>\n",
       "\t<li>4</li>\n",
       "\t<li>5</li>\n",
       "\t<li>6</li>\n",
       "</ol>\n"
      ],
      "text/latex": [
       "\\begin{enumerate*}\n",
       "\\item 1\n",
       "\\item 2\n",
       "\\item <NA>\n",
       "\\item 4\n",
       "\\item 5\n",
       "\\item 6\n",
       "\\end{enumerate*}\n"
      ],
      "text/markdown": [
       "1. 1\n",
       "2. 2\n",
       "3. &lt;NA&gt;\n",
       "4. 4\n",
       "5. 5\n",
       "6. 6\n",
       "\n",
       "\n"
      ],
      "text/plain": [
       "[1]  1  2 NA  4  5  6"
      ]
     },
     "metadata": {},
     "output_type": "display_data"
    }
   ],
   "source": [
    "v1=c(1,2,NA,4,5,6);v1"
   ]
  },
  {
   "cell_type": "code",
   "execution_count": 22,
   "metadata": {},
   "outputs": [
    {
     "data": {
      "text/html": [
       "<ol class=list-inline>\n",
       "\t<li>FALSE</li>\n",
       "\t<li>FALSE</li>\n",
       "\t<li>TRUE</li>\n",
       "\t<li>FALSE</li>\n",
       "\t<li>FALSE</li>\n",
       "\t<li>FALSE</li>\n",
       "</ol>\n"
      ],
      "text/latex": [
       "\\begin{enumerate*}\n",
       "\\item FALSE\n",
       "\\item FALSE\n",
       "\\item TRUE\n",
       "\\item FALSE\n",
       "\\item FALSE\n",
       "\\item FALSE\n",
       "\\end{enumerate*}\n"
      ],
      "text/markdown": [
       "1. FALSE\n",
       "2. FALSE\n",
       "3. TRUE\n",
       "4. FALSE\n",
       "5. FALSE\n",
       "6. FALSE\n",
       "\n",
       "\n"
      ],
      "text/plain": [
       "[1] FALSE FALSE  TRUE FALSE FALSE FALSE"
      ]
     },
     "metadata": {},
     "output_type": "display_data"
    }
   ],
   "source": [
    "is.na(v1) # función is.na"
   ]
  },
  {
   "cell_type": "markdown",
   "metadata": {},
   "source": [
    "Para ver la longitud del vector x"
   ]
  },
  {
   "cell_type": "code",
   "execution_count": 23,
   "metadata": {},
   "outputs": [
    {
     "data": {
      "text/html": [
       "6"
      ],
      "text/latex": [
       "6"
      ],
      "text/markdown": [
       "6"
      ],
      "text/plain": [
       "[1] 6"
      ]
     },
     "metadata": {},
     "output_type": "display_data"
    }
   ],
   "source": [
    "length(v1)"
   ]
  },
  {
   "cell_type": "markdown",
   "metadata": {},
   "source": [
    "Para construir una matriz de 8 números, en 2 filas y 4 columnas:"
   ]
  },
  {
   "cell_type": "code",
   "execution_count": 24,
   "metadata": {},
   "outputs": [
    {
     "data": {
      "text/html": [
       "<table>\n",
       "<tbody>\n",
       "\t<tr><td>1</td><td>3</td><td>5</td><td>7</td></tr>\n",
       "\t<tr><td>2</td><td>4</td><td>6</td><td>8</td></tr>\n",
       "</tbody>\n",
       "</table>\n"
      ],
      "text/latex": [
       "\\begin{tabular}{llll}\n",
       "\t 1 & 3 & 5 & 7\\\\\n",
       "\t 2 & 4 & 6 & 8\\\\\n",
       "\\end{tabular}\n"
      ],
      "text/markdown": [
       "\n",
       "| 1 | 3 | 5 | 7 | \n",
       "| 2 | 4 | 6 | 8 | \n",
       "\n",
       "\n"
      ],
      "text/plain": [
       "     [,1] [,2] [,3] [,4]\n",
       "[1,] 1    3    5    7   \n",
       "[2,] 2    4    6    8   "
      ]
     },
     "metadata": {},
     "output_type": "display_data"
    }
   ],
   "source": [
    "M=array(c(1,2,3,4,5,6,7,8),dim=c(2,4)) ; M # la matriz se va llenando por columnas"
   ]
  },
  {
   "cell_type": "markdown",
   "metadata": {},
   "source": [
    "Para acceder al elemento sub 2-3 de  M"
   ]
  },
  {
   "cell_type": "code",
   "execution_count": 25,
   "metadata": {},
   "outputs": [
    {
     "data": {
      "text/html": [
       "6"
      ],
      "text/latex": [
       "6"
      ],
      "text/markdown": [
       "6"
      ],
      "text/plain": [
       "[1] 6"
      ]
     },
     "metadata": {},
     "output_type": "display_data"
    }
   ],
   "source": [
    "M[2,3]"
   ]
  },
  {
   "cell_type": "code",
   "execution_count": 26,
   "metadata": {},
   "outputs": [
    {
     "data": {
      "text/html": [
       "<ol class=list-inline>\n",
       "\t<li>6</li>\n",
       "\t<li>8</li>\n",
       "</ol>\n"
      ],
      "text/latex": [
       "\\begin{enumerate*}\n",
       "\\item 6\n",
       "\\item 8\n",
       "\\end{enumerate*}\n"
      ],
      "text/markdown": [
       "1. 6\n",
       "2. 8\n",
       "\n",
       "\n"
      ],
      "text/plain": [
       "[1] 6 8"
      ]
     },
     "metadata": {},
     "output_type": "display_data"
    }
   ],
   "source": [
    "M[2,3:4]"
   ]
  },
  {
   "cell_type": "code",
   "execution_count": 27,
   "metadata": {},
   "outputs": [
    {
     "data": {
      "text/html": [
       "<ol class=list-inline>\n",
       "\t<li>1</li>\n",
       "\t<li>5</li>\n",
       "\t<li>7</li>\n",
       "</ol>\n"
      ],
      "text/latex": [
       "\\begin{enumerate*}\n",
       "\\item 1\n",
       "\\item 5\n",
       "\\item 7\n",
       "\\end{enumerate*}\n"
      ],
      "text/markdown": [
       "1. 1\n",
       "2. 5\n",
       "3. 7\n",
       "\n",
       "\n"
      ],
      "text/plain": [
       "[1] 1 5 7"
      ]
     },
     "metadata": {},
     "output_type": "display_data"
    }
   ],
   "source": [
    "M[1,c(1,3,4)]"
   ]
  },
  {
   "cell_type": "code",
   "execution_count": 28,
   "metadata": {},
   "outputs": [
    {
     "data": {
      "text/html": [
       "<ol class=list-inline>\n",
       "\t<li>1</li>\n",
       "\t<li>3</li>\n",
       "\t<li>5</li>\n",
       "\t<li>7</li>\n",
       "</ol>\n"
      ],
      "text/latex": [
       "\\begin{enumerate*}\n",
       "\\item 1\n",
       "\\item 3\n",
       "\\item 5\n",
       "\\item 7\n",
       "\\end{enumerate*}\n"
      ],
      "text/markdown": [
       "1. 1\n",
       "2. 3\n",
       "3. 5\n",
       "4. 7\n",
       "\n",
       "\n"
      ],
      "text/plain": [
       "[1] 1 3 5 7"
      ]
     },
     "metadata": {},
     "output_type": "display_data"
    }
   ],
   "source": [
    "M[1,]"
   ]
  },
  {
   "cell_type": "code",
   "execution_count": 29,
   "metadata": {},
   "outputs": [
    {
     "data": {
      "text/html": [
       "<ol class=list-inline>\n",
       "\t<li>7</li>\n",
       "\t<li>8</li>\n",
       "</ol>\n"
      ],
      "text/latex": [
       "\\begin{enumerate*}\n",
       "\\item 7\n",
       "\\item 8\n",
       "\\end{enumerate*}\n"
      ],
      "text/markdown": [
       "1. 7\n",
       "2. 8\n",
       "\n",
       "\n"
      ],
      "text/plain": [
       "[1] 7 8"
      ]
     },
     "metadata": {},
     "output_type": "display_data"
    }
   ],
   "source": [
    "M[,4]"
   ]
  },
  {
   "cell_type": "code",
   "execution_count": 30,
   "metadata": {},
   "outputs": [
    {
     "data": {
      "text/html": [
       "<ol class=list-inline>\n",
       "\t<li>4</li>\n",
       "\t<li>8</li>\n",
       "</ol>\n"
      ],
      "text/latex": [
       "\\begin{enumerate*}\n",
       "\\item 4\n",
       "\\item 8\n",
       "\\end{enumerate*}\n"
      ],
      "text/markdown": [
       "1. 4\n",
       "2. 8\n",
       "\n",
       "\n"
      ],
      "text/plain": [
       "[1] 4 8"
      ]
     },
     "metadata": {},
     "output_type": "display_data"
    }
   ],
   "source": [
    "M[2,c(2,4)]"
   ]
  },
  {
   "cell_type": "code",
   "execution_count": 31,
   "metadata": {},
   "outputs": [
    {
     "data": {
      "text/html": [
       "<table>\n",
       "<tbody>\n",
       "\t<tr><td>1 </td><td> 3</td><td>5 </td><td> 7</td></tr>\n",
       "\t<tr><td>2 </td><td>17</td><td>6 </td><td>18</td></tr>\n",
       "</tbody>\n",
       "</table>\n"
      ],
      "text/latex": [
       "\\begin{tabular}{llll}\n",
       "\t 1  &  3 & 5  &  7\\\\\n",
       "\t 2  & 17 & 6  & 18\\\\\n",
       "\\end{tabular}\n"
      ],
      "text/markdown": [
       "\n",
       "| 1  |  3 | 5  |  7 | \n",
       "| 2  | 17 | 6  | 18 | \n",
       "\n",
       "\n"
      ],
      "text/plain": [
       "     [,1] [,2] [,3] [,4]\n",
       "[1,] 1     3   5     7  \n",
       "[2,] 2    17   6    18  "
      ]
     },
     "metadata": {},
     "output_type": "display_data"
    }
   ],
   "source": [
    "M[2,c(2,4)]=c(17,18);M"
   ]
  },
  {
   "cell_type": "markdown",
   "metadata": {},
   "source": [
    "Número de filas:"
   ]
  },
  {
   "cell_type": "code",
   "execution_count": 32,
   "metadata": {},
   "outputs": [
    {
     "data": {
      "text/html": [
       "2"
      ],
      "text/latex": [
       "2"
      ],
      "text/markdown": [
       "2"
      ],
      "text/plain": [
       "[1] 2"
      ]
     },
     "metadata": {},
     "output_type": "display_data"
    }
   ],
   "source": [
    "nrow(M)"
   ]
  },
  {
   "cell_type": "markdown",
   "metadata": {},
   "source": [
    "Número de columnas"
   ]
  },
  {
   "cell_type": "code",
   "execution_count": 33,
   "metadata": {},
   "outputs": [
    {
     "data": {
      "text/html": [
       "4"
      ],
      "text/latex": [
       "4"
      ],
      "text/markdown": [
       "4"
      ],
      "text/plain": [
       "[1] 4"
      ]
     },
     "metadata": {},
     "output_type": "display_data"
    }
   ],
   "source": [
    "ncol(M)"
   ]
  },
  {
   "cell_type": "markdown",
   "metadata": {},
   "source": [
    "Para ver las dimensiones de una matriz:"
   ]
  },
  {
   "cell_type": "code",
   "execution_count": 34,
   "metadata": {},
   "outputs": [
    {
     "data": {
      "text/html": [
       "<ol class=list-inline>\n",
       "\t<li>2</li>\n",
       "\t<li>4</li>\n",
       "</ol>\n"
      ],
      "text/latex": [
       "\\begin{enumerate*}\n",
       "\\item 2\n",
       "\\item 4\n",
       "\\end{enumerate*}\n"
      ],
      "text/markdown": [
       "1. 2\n",
       "2. 4\n",
       "\n",
       "\n"
      ],
      "text/plain": [
       "[1] 2 4"
      ]
     },
     "metadata": {},
     "output_type": "display_data"
    }
   ],
   "source": [
    "dim(M)"
   ]
  },
  {
   "cell_type": "markdown",
   "metadata": {},
   "source": [
    "Para definir una matriz de ‘ceros’ y otra de con un mismo valor, 1, por ejemplo:"
   ]
  },
  {
   "cell_type": "code",
   "execution_count": 35,
   "metadata": {},
   "outputs": [
    {
     "data": {
      "text/html": [
       "<table>\n",
       "<tbody>\n",
       "\t<tr><td>0</td><td>0</td><td>0</td></tr>\n",
       "\t<tr><td>0</td><td>0</td><td>0</td></tr>\n",
       "\t<tr><td>0</td><td>0</td><td>0</td></tr>\n",
       "\t<tr><td>0</td><td>0</td><td>0</td></tr>\n",
       "</tbody>\n",
       "</table>\n"
      ],
      "text/latex": [
       "\\begin{tabular}{lll}\n",
       "\t 0 & 0 & 0\\\\\n",
       "\t 0 & 0 & 0\\\\\n",
       "\t 0 & 0 & 0\\\\\n",
       "\t 0 & 0 & 0\\\\\n",
       "\\end{tabular}\n"
      ],
      "text/markdown": [
       "\n",
       "| 0 | 0 | 0 | \n",
       "| 0 | 0 | 0 | \n",
       "| 0 | 0 | 0 | \n",
       "| 0 | 0 | 0 | \n",
       "\n",
       "\n"
      ],
      "text/plain": [
       "     [,1] [,2] [,3]\n",
       "[1,] 0    0    0   \n",
       "[2,] 0    0    0   \n",
       "[3,] 0    0    0   \n",
       "[4,] 0    0    0   "
      ]
     },
     "metadata": {},
     "output_type": "display_data"
    },
    {
     "data": {
      "text/html": [
       "<table>\n",
       "<tbody>\n",
       "\t<tr><td>1</td><td>1</td><td>1</td></tr>\n",
       "\t<tr><td>1</td><td>1</td><td>1</td></tr>\n",
       "\t<tr><td>1</td><td>1</td><td>1</td></tr>\n",
       "\t<tr><td>1</td><td>1</td><td>1</td></tr>\n",
       "</tbody>\n",
       "</table>\n"
      ],
      "text/latex": [
       "\\begin{tabular}{lll}\n",
       "\t 1 & 1 & 1\\\\\n",
       "\t 1 & 1 & 1\\\\\n",
       "\t 1 & 1 & 1\\\\\n",
       "\t 1 & 1 & 1\\\\\n",
       "\\end{tabular}\n"
      ],
      "text/markdown": [
       "\n",
       "| 1 | 1 | 1 | \n",
       "| 1 | 1 | 1 | \n",
       "| 1 | 1 | 1 | \n",
       "| 1 | 1 | 1 | \n",
       "\n",
       "\n"
      ],
      "text/plain": [
       "     [,1] [,2] [,3]\n",
       "[1,] 1    1    1   \n",
       "[2,] 1    1    1   \n",
       "[3,] 1    1    1   \n",
       "[4,] 1    1    1   "
      ]
     },
     "metadata": {},
     "output_type": "display_data"
    }
   ],
   "source": [
    "Z=array(0,c(4,3));Z;U=array(1,c(4,3));U"
   ]
  },
  {
   "cell_type": "markdown",
   "metadata": {},
   "source": [
    "## OPERACIONES ALGEBRAICAS CON MATRICES:\n",
    "Vamos a ver cómo funcionan algunas operaciones con matrices\n"
   ]
  },
  {
   "cell_type": "code",
   "execution_count": 36,
   "metadata": {},
   "outputs": [
    {
     "data": {
      "text/html": [
       "<table>\n",
       "<tbody>\n",
       "\t<tr><td>1</td><td>3</td><td>5</td><td>7</td></tr>\n",
       "\t<tr><td>2</td><td>4</td><td>6</td><td>8</td></tr>\n",
       "</tbody>\n",
       "</table>\n"
      ],
      "text/latex": [
       "\\begin{tabular}{llll}\n",
       "\t 1 & 3 & 5 & 7\\\\\n",
       "\t 2 & 4 & 6 & 8\\\\\n",
       "\\end{tabular}\n"
      ],
      "text/markdown": [
       "\n",
       "| 1 | 3 | 5 | 7 | \n",
       "| 2 | 4 | 6 | 8 | \n",
       "\n",
       "\n"
      ],
      "text/plain": [
       "     [,1] [,2] [,3] [,4]\n",
       "[1,] 1    3    5    7   \n",
       "[2,] 2    4    6    8   "
      ]
     },
     "metadata": {},
     "output_type": "display_data"
    }
   ],
   "source": [
    "M=array(c(1,2,3,4,5,6,7,8),dim=c(2,4));M"
   ]
  },
  {
   "cell_type": "code",
   "execution_count": 37,
   "metadata": {},
   "outputs": [
    {
     "data": {
      "text/html": [
       "<table>\n",
       "<tbody>\n",
       "\t<tr><td>4 </td><td>6 </td><td>8 </td><td>10</td></tr>\n",
       "\t<tr><td>5 </td><td>7 </td><td>9 </td><td>11</td></tr>\n",
       "</tbody>\n",
       "</table>\n"
      ],
      "text/latex": [
       "\\begin{tabular}{llll}\n",
       "\t 4  & 6  & 8  & 10\\\\\n",
       "\t 5  & 7  & 9  & 11\\\\\n",
       "\\end{tabular}\n"
      ],
      "text/markdown": [
       "\n",
       "| 4  | 6  | 8  | 10 | \n",
       "| 5  | 7  | 9  | 11 | \n",
       "\n",
       "\n"
      ],
      "text/plain": [
       "     [,1] [,2] [,3] [,4]\n",
       "[1,] 4    6    8    10  \n",
       "[2,] 5    7    9    11  "
      ]
     },
     "metadata": {},
     "output_type": "display_data"
    }
   ],
   "source": [
    "M+3"
   ]
  },
  {
   "cell_type": "code",
   "execution_count": 38,
   "metadata": {},
   "outputs": [
    {
     "data": {
      "text/html": [
       "<table>\n",
       "<tbody>\n",
       "\t<tr><td>2 </td><td>6 </td><td>10</td><td>14</td></tr>\n",
       "\t<tr><td>4 </td><td>8 </td><td>12</td><td>16</td></tr>\n",
       "</tbody>\n",
       "</table>\n"
      ],
      "text/latex": [
       "\\begin{tabular}{llll}\n",
       "\t 2  & 6  & 10 & 14\\\\\n",
       "\t 4  & 8  & 12 & 16\\\\\n",
       "\\end{tabular}\n"
      ],
      "text/markdown": [
       "\n",
       "| 2  | 6  | 10 | 14 | \n",
       "| 4  | 8  | 12 | 16 | \n",
       "\n",
       "\n"
      ],
      "text/plain": [
       "     [,1] [,2] [,3] [,4]\n",
       "[1,] 2    6    10   14  \n",
       "[2,] 4    8    12   16  "
      ]
     },
     "metadata": {},
     "output_type": "display_data"
    }
   ],
   "source": [
    "M*2"
   ]
  },
  {
   "cell_type": "code",
   "execution_count": 39,
   "metadata": {},
   "outputs": [
    {
     "data": {
      "text/html": [
       "<table>\n",
       "<tbody>\n",
       "\t<tr><td>1</td><td>2</td></tr>\n",
       "\t<tr><td>3</td><td>4</td></tr>\n",
       "\t<tr><td>5</td><td>6</td></tr>\n",
       "\t<tr><td>7</td><td>8</td></tr>\n",
       "</tbody>\n",
       "</table>\n"
      ],
      "text/latex": [
       "\\begin{tabular}{ll}\n",
       "\t 1 & 2\\\\\n",
       "\t 3 & 4\\\\\n",
       "\t 5 & 6\\\\\n",
       "\t 7 & 8\\\\\n",
       "\\end{tabular}\n"
      ],
      "text/markdown": [
       "\n",
       "| 1 | 2 | \n",
       "| 3 | 4 | \n",
       "| 5 | 6 | \n",
       "| 7 | 8 | \n",
       "\n",
       "\n"
      ],
      "text/plain": [
       "     [,1] [,2]\n",
       "[1,] 1    2   \n",
       "[2,] 3    4   \n",
       "[3,] 5    6   \n",
       "[4,] 7    8   "
      ]
     },
     "metadata": {},
     "output_type": "display_data"
    }
   ],
   "source": [
    "Mt=t(M);Mt"
   ]
  },
  {
   "cell_type": "code",
   "execution_count": 40,
   "metadata": {},
   "outputs": [
    {
     "data": {
      "text/html": [
       "<table>\n",
       "<tbody>\n",
       "\t<tr><td>3.5 </td><td>5.5 </td><td>7.5 </td><td> 9.5</td></tr>\n",
       "\t<tr><td>4.5 </td><td>6.5 </td><td>8.5 </td><td>10.5</td></tr>\n",
       "</tbody>\n",
       "</table>\n"
      ],
      "text/latex": [
       "\\begin{tabular}{llll}\n",
       "\t 3.5  & 5.5  & 7.5  &  9.5\\\\\n",
       "\t 4.5  & 6.5  & 8.5  & 10.5\\\\\n",
       "\\end{tabular}\n"
      ],
      "text/markdown": [
       "\n",
       "| 3.5  | 5.5  | 7.5  |  9.5 | \n",
       "| 4.5  | 6.5  | 8.5  | 10.5 | \n",
       "\n",
       "\n"
      ],
      "text/plain": [
       "     [,1] [,2] [,3] [,4]\n",
       "[1,] 3.5  5.5  7.5   9.5\n",
       "[2,] 4.5  6.5  8.5  10.5"
      ]
     },
     "metadata": {},
     "output_type": "display_data"
    }
   ],
   "source": [
    "M1=array(2.5,c(2,4));Suma=M+M1;Suma"
   ]
  },
  {
   "cell_type": "markdown",
   "metadata": {},
   "source": [
    "Producto de matrices (operador %*% para producto):"
   ]
  },
  {
   "cell_type": "code",
   "execution_count": 41,
   "metadata": {},
   "outputs": [
    {
     "data": {
      "text/html": [
       "<table>\n",
       "<tbody>\n",
       "\t<tr><td>10</td><td>10</td></tr>\n",
       "\t<tr><td>10</td><td>10</td></tr>\n",
       "</tbody>\n",
       "</table>\n"
      ],
      "text/latex": [
       "\\begin{tabular}{ll}\n",
       "\t 10 & 10\\\\\n",
       "\t 10 & 10\\\\\n",
       "\\end{tabular}\n"
      ],
      "text/markdown": [
       "\n",
       "| 10 | 10 | \n",
       "| 10 | 10 | \n",
       "\n",
       "\n"
      ],
      "text/plain": [
       "     [,1] [,2]\n",
       "[1,] 10   10  \n",
       "[2,] 10   10  "
      ]
     },
     "metadata": {},
     "output_type": "display_data"
    }
   ],
   "source": [
    "Producto=M1%*%array(1,c(4,2));Producto"
   ]
  },
  {
   "cell_type": "code",
   "execution_count": 42,
   "metadata": {},
   "outputs": [
    {
     "data": {
      "text/html": [
       "<table>\n",
       "<tbody>\n",
       "\t<tr><td>1</td><td>4</td><td>7</td></tr>\n",
       "\t<tr><td>2</td><td>5</td><td>8</td></tr>\n",
       "\t<tr><td>3</td><td>6</td><td>9</td></tr>\n",
       "</tbody>\n",
       "</table>\n"
      ],
      "text/latex": [
       "\\begin{tabular}{lll}\n",
       "\t 1 & 4 & 7\\\\\n",
       "\t 2 & 5 & 8\\\\\n",
       "\t 3 & 6 & 9\\\\\n",
       "\\end{tabular}\n"
      ],
      "text/markdown": [
       "\n",
       "| 1 | 4 | 7 | \n",
       "| 2 | 5 | 8 | \n",
       "| 3 | 6 | 9 | \n",
       "\n",
       "\n"
      ],
      "text/plain": [
       "     [,1] [,2] [,3]\n",
       "[1,] 1    4    7   \n",
       "[2,] 2    5    8   \n",
       "[3,] 3    6    9   "
      ]
     },
     "metadata": {},
     "output_type": "display_data"
    },
    {
     "data": {
      "text/html": [
       "<table>\n",
       "<tbody>\n",
       "\t<tr><td>18</td></tr>\n",
       "\t<tr><td>24</td></tr>\n",
       "\t<tr><td>30</td></tr>\n",
       "</tbody>\n",
       "</table>\n"
      ],
      "text/latex": [
       "\\begin{tabular}{l}\n",
       "\t 18\\\\\n",
       "\t 24\\\\\n",
       "\t 30\\\\\n",
       "\\end{tabular}\n"
      ],
      "text/markdown": [
       "\n",
       "| 18 | \n",
       "| 24 | \n",
       "| 30 | \n",
       "\n",
       "\n"
      ],
      "text/plain": [
       "     [,1]\n",
       "[1,] 18  \n",
       "[2,] 24  \n",
       "[3,] 30  "
      ]
     },
     "metadata": {},
     "output_type": "display_data"
    },
    {
     "data": {
      "text/html": [
       "<ol class=list-inline>\n",
       "\t<li>3</li>\n",
       "\t<li>2</li>\n",
       "\t<li>1</li>\n",
       "</ol>\n"
      ],
      "text/latex": [
       "\\begin{enumerate*}\n",
       "\\item 3\n",
       "\\item 2\n",
       "\\item 1\n",
       "\\end{enumerate*}\n"
      ],
      "text/markdown": [
       "1. 3\n",
       "2. 2\n",
       "3. 1\n",
       "\n",
       "\n"
      ],
      "text/plain": [
       "[1] 3 2 1"
      ]
     },
     "metadata": {},
     "output_type": "display_data"
    }
   ],
   "source": [
    "y=c(3,2,1);A=array(c(1,2,3,4,5,6,7,8,9),dim=c(3,3));h=A%*%y;A;h;y"
   ]
  },
  {
   "cell_type": "markdown",
   "metadata": {},
   "source": [
    " Solución de un sistema de ecuaciones lineales"
   ]
  },
  {
   "cell_type": "code",
   "execution_count": 43,
   "metadata": {},
   "outputs": [
    {
     "data": {
      "text/html": [
       "<table>\n",
       "<tbody>\n",
       "\t<tr><td>1.0</td><td>4.0</td><td>7  </td></tr>\n",
       "\t<tr><td>2.0</td><td>5.8</td><td>8  </td></tr>\n",
       "\t<tr><td>3.5</td><td>6.0</td><td>9  </td></tr>\n",
       "</tbody>\n",
       "</table>\n"
      ],
      "text/latex": [
       "\\begin{tabular}{lll}\n",
       "\t 1.0 & 4.0 & 7  \\\\\n",
       "\t 2.0 & 5.8 & 8  \\\\\n",
       "\t 3.5 & 6.0 & 9  \\\\\n",
       "\\end{tabular}\n"
      ],
      "text/markdown": [
       "\n",
       "| 1.0 | 4.0 | 7   | \n",
       "| 2.0 | 5.8 | 8   | \n",
       "| 3.5 | 6.0 | 9   | \n",
       "\n",
       "\n"
      ],
      "text/plain": [
       "     [,1] [,2] [,3]\n",
       "[1,] 1.0  4.0  7   \n",
       "[2,] 2.0  5.8  8   \n",
       "[3,] 3.5  6.0  9   "
      ]
     },
     "metadata": {},
     "output_type": "display_data"
    },
    {
     "data": {
      "text/html": [
       "<table>\n",
       "<tbody>\n",
       "\t<tr><td>18.0</td></tr>\n",
       "\t<tr><td>25.6</td></tr>\n",
       "\t<tr><td>31.5</td></tr>\n",
       "</tbody>\n",
       "</table>\n"
      ],
      "text/latex": [
       "\\begin{tabular}{l}\n",
       "\t 18.0\\\\\n",
       "\t 25.6\\\\\n",
       "\t 31.5\\\\\n",
       "\\end{tabular}\n"
      ],
      "text/markdown": [
       "\n",
       "| 18.0 | \n",
       "| 25.6 | \n",
       "| 31.5 | \n",
       "\n",
       "\n"
      ],
      "text/plain": [
       "     [,1]\n",
       "[1,] 18.0\n",
       "[2,] 25.6\n",
       "[3,] 31.5"
      ]
     },
     "metadata": {},
     "output_type": "display_data"
    },
    {
     "data": {
      "text/html": [
       "<ol class=list-inline>\n",
       "\t<li>3</li>\n",
       "\t<li>2</li>\n",
       "\t<li>1</li>\n",
       "</ol>\n"
      ],
      "text/latex": [
       "\\begin{enumerate*}\n",
       "\\item 3\n",
       "\\item 2\n",
       "\\item 1\n",
       "\\end{enumerate*}\n"
      ],
      "text/markdown": [
       "1. 3\n",
       "2. 2\n",
       "3. 1\n",
       "\n",
       "\n"
      ],
      "text/plain": [
       "[1] 3 2 1"
      ]
     },
     "metadata": {},
     "output_type": "display_data"
    }
   ],
   "source": [
    "y=c(3,2,1);A=array(c(1,2,3.5,4,5.8,6,7,8,9),dim=c(3,3));h=A%*%y;A;h;y"
   ]
  },
  {
   "cell_type": "code",
   "execution_count": 44,
   "metadata": {},
   "outputs": [
    {
     "data": {
      "text/html": [
       "<table>\n",
       "<tbody>\n",
       "\t<tr><td>3</td></tr>\n",
       "\t<tr><td>2</td></tr>\n",
       "\t<tr><td>1</td></tr>\n",
       "</tbody>\n",
       "</table>\n"
      ],
      "text/latex": [
       "\\begin{tabular}{l}\n",
       "\t 3\\\\\n",
       "\t 2\\\\\n",
       "\t 1\\\\\n",
       "\\end{tabular}\n"
      ],
      "text/markdown": [
       "\n",
       "| 3 | \n",
       "| 2 | \n",
       "| 1 | \n",
       "\n",
       "\n"
      ],
      "text/plain": [
       "     [,1]\n",
       "[1,] 3   \n",
       "[2,] 2   \n",
       "[3,] 1   "
      ]
     },
     "metadata": {},
     "output_type": "display_data"
    }
   ],
   "source": [
    "sol=solve(A,h);sol"
   ]
  },
  {
   "cell_type": "code",
   "execution_count": 45,
   "metadata": {},
   "outputs": [
    {
     "data": {
      "text/html": [
       "<table>\n",
       "<tbody>\n",
       "\t<tr><td>-0.3021583</td><td>-0.4316547</td><td> 0.6187050</td></tr>\n",
       "\t<tr><td>-0.7194245</td><td> 1.1151079</td><td>-0.4316547</td></tr>\n",
       "\t<tr><td> 0.5971223</td><td>-0.5755396</td><td> 0.1582734</td></tr>\n",
       "</tbody>\n",
       "</table>\n"
      ],
      "text/latex": [
       "\\begin{tabular}{lll}\n",
       "\t -0.3021583 & -0.4316547 &  0.6187050\\\\\n",
       "\t -0.7194245 &  1.1151079 & -0.4316547\\\\\n",
       "\t  0.5971223 & -0.5755396 &  0.1582734\\\\\n",
       "\\end{tabular}\n"
      ],
      "text/markdown": [
       "\n",
       "| -0.3021583 | -0.4316547 |  0.6187050 | \n",
       "| -0.7194245 |  1.1151079 | -0.4316547 | \n",
       "|  0.5971223 | -0.5755396 |  0.1582734 | \n",
       "\n",
       "\n"
      ],
      "text/plain": [
       "     [,1]       [,2]       [,3]      \n",
       "[1,] -0.3021583 -0.4316547  0.6187050\n",
       "[2,] -0.7194245  1.1151079 -0.4316547\n",
       "[3,]  0.5971223 -0.5755396  0.1582734"
      ]
     },
     "metadata": {},
     "output_type": "display_data"
    },
    {
     "data": {
      "text/html": [
       "<table>\n",
       "<tbody>\n",
       "\t<tr><td>1.000000e+00 </td><td>-1.332268e-15</td><td>-1.776357e-15</td></tr>\n",
       "\t<tr><td>2.220446e-16 </td><td> 1.000000e+00</td><td> 0.000000e+00</td></tr>\n",
       "\t<tr><td>1.110223e-16 </td><td> 4.440892e-16</td><td> 1.000000e+00</td></tr>\n",
       "</tbody>\n",
       "</table>\n"
      ],
      "text/latex": [
       "\\begin{tabular}{lll}\n",
       "\t 1.000000e+00  & -1.332268e-15 & -1.776357e-15\\\\\n",
       "\t 2.220446e-16  &  1.000000e+00 &  0.000000e+00\\\\\n",
       "\t 1.110223e-16  &  4.440892e-16 &  1.000000e+00\\\\\n",
       "\\end{tabular}\n"
      ],
      "text/markdown": [
       "\n",
       "| 1.000000e+00  | -1.332268e-15 | -1.776357e-15 | \n",
       "| 2.220446e-16  |  1.000000e+00 |  0.000000e+00 | \n",
       "| 1.110223e-16  |  4.440892e-16 |  1.000000e+00 | \n",
       "\n",
       "\n"
      ],
      "text/plain": [
       "     [,1]         [,2]          [,3]         \n",
       "[1,] 1.000000e+00 -1.332268e-15 -1.776357e-15\n",
       "[2,] 2.220446e-16  1.000000e+00  0.000000e+00\n",
       "[3,] 1.110223e-16  4.440892e-16  1.000000e+00"
      ]
     },
     "metadata": {},
     "output_type": "display_data"
    }
   ],
   "source": [
    "solve(A);solve(A)%*%A"
   ]
  },
  {
   "cell_type": "markdown",
   "metadata": {},
   "source": [
    "### LA ESTRUCTURA DATA.FRAME (MARCO DE DATOS)\n",
    "Es una lista cuyas componentes deben ser vectores (numéricos, carácter, lógicos), factores, matrices numéricas, listas u otros data.frames. Si son vectores, deben ser todos de igual longitud, y si matrices, con el mismo número de filas.\n",
    "\n",
    "Es frecuente estructurar un data.frame como un conjunto de vectores columna de igual longitud. Podemos imaginar el data.frame como una matriz rectangular, cuyas columnas son las variables del data.frame, que pueden ser de diferente tipo, numéricas, factores, lógicas.\n",
    "\n",
    "Para construir una variable de tipo data.frame se puede utilizar la función data.frame(). Veamos un ejemplo de data.frame con 2 columnas, a partir de un vector numérico v, que será una columna de nombre valor y otro vector que será otra columna de nombre caso, formada con datos cualitativos. \n"
   ]
  },
  {
   "cell_type": "code",
   "execution_count": 46,
   "metadata": {},
   "outputs": [
    {
     "data": {
      "text/html": [
       "<ol class=list-inline>\n",
       "\t<li>6.4</li>\n",
       "\t<li>3.5</li>\n",
       "\t<li>8.4</li>\n",
       "\t<li>5.5</li>\n",
       "\t<li>8.3</li>\n",
       "</ol>\n"
      ],
      "text/latex": [
       "\\begin{enumerate*}\n",
       "\\item 6.4\n",
       "\\item 3.5\n",
       "\\item 8.4\n",
       "\\item 5.5\n",
       "\\item 8.3\n",
       "\\end{enumerate*}\n"
      ],
      "text/markdown": [
       "1. 6.4\n",
       "2. 3.5\n",
       "3. 8.4\n",
       "4. 5.5\n",
       "5. 8.3\n",
       "\n",
       "\n"
      ],
      "text/plain": [
       "[1] 6.4 3.5 8.4 5.5 8.3"
      ]
     },
     "metadata": {},
     "output_type": "display_data"
    },
    {
     "data": {
      "text/html": [
       "<table>\n",
       "<thead><tr><th scope=col>valor</th><th scope=col>abm</th></tr></thead>\n",
       "<tbody>\n",
       "\t<tr><td>6.4  </td><td>alto </td></tr>\n",
       "\t<tr><td>3.5  </td><td>alto </td></tr>\n",
       "\t<tr><td>8.4  </td><td>bajo </td></tr>\n",
       "\t<tr><td>5.5  </td><td>medio</td></tr>\n",
       "\t<tr><td>8.3  </td><td>medio</td></tr>\n",
       "</tbody>\n",
       "</table>\n"
      ],
      "text/latex": [
       "\\begin{tabular}{r|ll}\n",
       " valor & abm\\\\\n",
       "\\hline\n",
       "\t 6.4   & alto \\\\\n",
       "\t 3.5   & alto \\\\\n",
       "\t 8.4   & bajo \\\\\n",
       "\t 5.5   & medio\\\\\n",
       "\t 8.3   & medio\\\\\n",
       "\\end{tabular}\n"
      ],
      "text/markdown": [
       "\n",
       "valor | abm | \n",
       "|---|---|---|---|---|\n",
       "| 6.4   | alto  | \n",
       "| 3.5   | alto  | \n",
       "| 8.4   | bajo  | \n",
       "| 5.5   | medio | \n",
       "| 8.3   | medio | \n",
       "\n",
       "\n"
      ],
      "text/plain": [
       "  valor abm  \n",
       "1 6.4   alto \n",
       "2 3.5   alto \n",
       "3 8.4   bajo \n",
       "4 5.5   medio\n",
       "5 8.3   medio"
      ]
     },
     "metadata": {},
     "output_type": "display_data"
    }
   ],
   "source": [
    "v=c(6.4,3.5,8.4,5.5,8.3)\n",
    "BBB=data.frame(valor=v,abm=c(\"alto\",\"alto\",\"bajo\",\"medio\",\"medio\"))\n",
    "v;BBB"
   ]
  },
  {
   "cell_type": "code",
   "execution_count": 47,
   "metadata": {},
   "outputs": [
    {
     "data": {
      "text/html": [
       "<ol class=list-inline>\n",
       "\t<li>6.4</li>\n",
       "\t<li>3.5</li>\n",
       "\t<li>8.4</li>\n",
       "\t<li>5.5</li>\n",
       "\t<li>8.3</li>\n",
       "</ol>\n"
      ],
      "text/latex": [
       "\\begin{enumerate*}\n",
       "\\item 6.4\n",
       "\\item 3.5\n",
       "\\item 8.4\n",
       "\\item 5.5\n",
       "\\item 8.3\n",
       "\\end{enumerate*}\n"
      ],
      "text/markdown": [
       "1. 6.4\n",
       "2. 3.5\n",
       "3. 8.4\n",
       "4. 5.5\n",
       "5. 8.3\n",
       "\n",
       "\n"
      ],
      "text/plain": [
       "[1] 6.4 3.5 8.4 5.5 8.3"
      ]
     },
     "metadata": {},
     "output_type": "display_data"
    },
    {
     "data": {
      "text/html": [
       "<ol class=list-inline>\n",
       "\t<li>alto</li>\n",
       "\t<li>alto</li>\n",
       "\t<li>bajo</li>\n",
       "\t<li>medio</li>\n",
       "\t<li>medio</li>\n",
       "</ol>\n"
      ],
      "text/latex": [
       "\\begin{enumerate*}\n",
       "\\item alto\n",
       "\\item alto\n",
       "\\item bajo\n",
       "\\item medio\n",
       "\\item medio\n",
       "\\end{enumerate*}\n"
      ],
      "text/markdown": [
       "1. alto\n",
       "2. alto\n",
       "3. bajo\n",
       "4. medio\n",
       "5. medio\n",
       "\n",
       "\n"
      ],
      "text/plain": [
       "[1] alto  alto  bajo  medio medio\n",
       "Levels: alto bajo medio"
      ]
     },
     "metadata": {},
     "output_type": "display_data"
    }
   ],
   "source": [
    "BBB$valor;BBB$abm"
   ]
  },
  {
   "cell_type": "code",
   "execution_count": 48,
   "metadata": {},
   "outputs": [
    {
     "data": {
      "text/html": [
       "<ol class=list-inline>\n",
       "\t<li>5</li>\n",
       "\t<li>2</li>\n",
       "</ol>\n"
      ],
      "text/latex": [
       "\\begin{enumerate*}\n",
       "\\item 5\n",
       "\\item 2\n",
       "\\end{enumerate*}\n"
      ],
      "text/markdown": [
       "1. 5\n",
       "2. 2\n",
       "\n",
       "\n"
      ],
      "text/plain": [
       "[1] 5 2"
      ]
     },
     "metadata": {},
     "output_type": "display_data"
    }
   ],
   "source": [
    "dim(BBB)"
   ]
  },
  {
   "cell_type": "markdown",
   "metadata": {},
   "source": [
    "La función de R summary() aplicada al data frame nos da el resumen estadístico de sus variables (columnas)"
   ]
  },
  {
   "cell_type": "code",
   "execution_count": 49,
   "metadata": {},
   "outputs": [
    {
     "data": {
      "text/plain": [
       "     valor         abm   \n",
       " Min.   :3.50   alto :2  \n",
       " 1st Qu.:5.50   bajo :1  \n",
       " Median :6.40   medio:2  \n",
       " Mean   :6.42            \n",
       " 3rd Qu.:8.30            \n",
       " Max.   :8.40            "
      ]
     },
     "metadata": {},
     "output_type": "display_data"
    }
   ],
   "source": [
    "summary(BBB)"
   ]
  },
  {
   "cell_type": "markdown",
   "metadata": {},
   "source": [
    "Veamos algunas instrucciones para acceder a la información del data.frame. Se puede entender que se trabaja con el data.frame como si fuese una matriz con filas y columnas:"
   ]
  },
  {
   "cell_type": "code",
   "execution_count": 50,
   "metadata": {},
   "outputs": [
    {
     "data": {
      "text/html": [
       "alto"
      ],
      "text/latex": [
       "alto"
      ],
      "text/markdown": [
       "alto"
      ],
      "text/plain": [
       "[1] alto\n",
       "Levels: alto bajo medio"
      ]
     },
     "metadata": {},
     "output_type": "display_data"
    }
   ],
   "source": [
    "BBB[1,2]"
   ]
  },
  {
   "cell_type": "code",
   "execution_count": 51,
   "metadata": {},
   "outputs": [
    {
     "data": {
      "text/html": [
       "<table>\n",
       "<thead><tr><th scope=col>valor</th><th scope=col>abm</th></tr></thead>\n",
       "<tbody>\n",
       "</tbody>\n",
       "</table>\n"
      ],
      "text/latex": [
       "\\begin{tabular}{r|ll}\n",
       " valor & abm\\\\\n",
       "\\hline\n",
       "\\end{tabular}\n"
      ],
      "text/markdown": [
       "\n",
       "valor | abm | \n",
       "||\n",
       "\n",
       "\n"
      ],
      "text/plain": [
       "     valor abm"
      ]
     },
     "metadata": {},
     "output_type": "display_data"
    }
   ],
   "source": [
    "BBB[0,]"
   ]
  },
  {
   "cell_type": "code",
   "execution_count": 52,
   "metadata": {},
   "outputs": [
    {
     "data": {
      "text/html": [
       "<table>\n",
       "<thead><tr><th scope=col>valor</th><th scope=col>abm</th></tr></thead>\n",
       "<tbody>\n",
       "\t<tr><td>6.4 </td><td>alto</td></tr>\n",
       "</tbody>\n",
       "</table>\n"
      ],
      "text/latex": [
       "\\begin{tabular}{r|ll}\n",
       " valor & abm\\\\\n",
       "\\hline\n",
       "\t 6.4  & alto\\\\\n",
       "\\end{tabular}\n"
      ],
      "text/markdown": [
       "\n",
       "valor | abm | \n",
       "|---|\n",
       "| 6.4  | alto | \n",
       "\n",
       "\n"
      ],
      "text/plain": [
       "  valor abm \n",
       "1 6.4   alto"
      ]
     },
     "metadata": {},
     "output_type": "display_data"
    }
   ],
   "source": [
    "BBB[1,]"
   ]
  },
  {
   "cell_type": "code",
   "execution_count": 53,
   "metadata": {},
   "outputs": [
    {
     "data": {
      "text/html": [
       "<table>\n",
       "<thead><tr><th scope=col>valor</th><th scope=col>abm</th></tr></thead>\n",
       "<tbody>\n",
       "\t<tr><td>6.4 </td><td>alto</td></tr>\n",
       "\t<tr><td>3.5 </td><td>alto</td></tr>\n",
       "\t<tr><td>8.4 </td><td>bajo</td></tr>\n",
       "</tbody>\n",
       "</table>\n"
      ],
      "text/latex": [
       "\\begin{tabular}{r|ll}\n",
       " valor & abm\\\\\n",
       "\\hline\n",
       "\t 6.4  & alto\\\\\n",
       "\t 3.5  & alto\\\\\n",
       "\t 8.4  & bajo\\\\\n",
       "\\end{tabular}\n"
      ],
      "text/markdown": [
       "\n",
       "valor | abm | \n",
       "|---|---|---|\n",
       "| 6.4  | alto | \n",
       "| 3.5  | alto | \n",
       "| 8.4  | bajo | \n",
       "\n",
       "\n"
      ],
      "text/plain": [
       "  valor abm \n",
       "1 6.4   alto\n",
       "2 3.5   alto\n",
       "3 8.4   bajo"
      ]
     },
     "metadata": {},
     "output_type": "display_data"
    }
   ],
   "source": [
    "BBB[1:3,]"
   ]
  },
  {
   "cell_type": "code",
   "execution_count": 54,
   "metadata": {},
   "outputs": [
    {
     "data": {
      "text/html": [
       "<ol class=list-inline>\n",
       "\t<li>alto</li>\n",
       "\t<li>alto</li>\n",
       "\t<li>bajo</li>\n",
       "</ol>\n"
      ],
      "text/latex": [
       "\\begin{enumerate*}\n",
       "\\item alto\n",
       "\\item alto\n",
       "\\item bajo\n",
       "\\end{enumerate*}\n"
      ],
      "text/markdown": [
       "1. alto\n",
       "2. alto\n",
       "3. bajo\n",
       "\n",
       "\n"
      ],
      "text/plain": [
       "[1] alto alto bajo\n",
       "Levels: alto bajo medio"
      ]
     },
     "metadata": {},
     "output_type": "display_data"
    }
   ],
   "source": [
    "BBB[1:3,2]"
   ]
  },
  {
   "cell_type": "markdown",
   "metadata": {},
   "source": [
    "Ordenamos en orden creciente según los valores de la variable/columna BBB$valor, con la función sort.list() que devuelve un vector de índices de los datos ordenados"
   ]
  },
  {
   "cell_type": "code",
   "execution_count": 55,
   "metadata": {},
   "outputs": [
    {
     "data": {
      "text/html": [
       "<ol class=list-inline>\n",
       "\t<li>2</li>\n",
       "\t<li>4</li>\n",
       "\t<li>1</li>\n",
       "\t<li>5</li>\n",
       "\t<li>3</li>\n",
       "</ol>\n"
      ],
      "text/latex": [
       "\\begin{enumerate*}\n",
       "\\item 2\n",
       "\\item 4\n",
       "\\item 1\n",
       "\\item 5\n",
       "\\item 3\n",
       "\\end{enumerate*}\n"
      ],
      "text/markdown": [
       "1. 2\n",
       "2. 4\n",
       "3. 1\n",
       "4. 5\n",
       "5. 3\n",
       "\n",
       "\n"
      ],
      "text/plain": [
       "[1] 2 4 1 5 3"
      ]
     },
     "metadata": {},
     "output_type": "display_data"
    }
   ],
   "source": [
    "BBB_orden=sort.list(BBB$valor);BBB_orden"
   ]
  },
  {
   "cell_type": "markdown",
   "metadata": {},
   "source": [
    "Construimos un data.frame a partir del anterior , ordenado según los valores crecientes obtenidos para la columna valor. Simplemente se aplica al data.frame BBB el vector de índices BBB_nuevo"
   ]
  },
  {
   "cell_type": "code",
   "execution_count": 56,
   "metadata": {},
   "outputs": [
    {
     "data": {
      "text/html": [
       "<table>\n",
       "<thead><tr><th></th><th scope=col>valor</th><th scope=col>abm</th></tr></thead>\n",
       "<tbody>\n",
       "\t<tr><th scope=row>2</th><td>3.5  </td><td>alto </td></tr>\n",
       "\t<tr><th scope=row>4</th><td>5.5  </td><td>medio</td></tr>\n",
       "\t<tr><th scope=row>1</th><td>6.4  </td><td>alto </td></tr>\n",
       "\t<tr><th scope=row>5</th><td>8.3  </td><td>medio</td></tr>\n",
       "\t<tr><th scope=row>3</th><td>8.4  </td><td>bajo </td></tr>\n",
       "</tbody>\n",
       "</table>\n"
      ],
      "text/latex": [
       "\\begin{tabular}{r|ll}\n",
       "  & valor & abm\\\\\n",
       "\\hline\n",
       "\t2 & 3.5   & alto \\\\\n",
       "\t4 & 5.5   & medio\\\\\n",
       "\t1 & 6.4   & alto \\\\\n",
       "\t5 & 8.3   & medio\\\\\n",
       "\t3 & 8.4   & bajo \\\\\n",
       "\\end{tabular}\n"
      ],
      "text/markdown": [
       "\n",
       "| <!--/--> | valor | abm | \n",
       "|---|---|---|---|---|\n",
       "| 2 | 3.5   | alto  | \n",
       "| 4 | 5.5   | medio | \n",
       "| 1 | 6.4   | alto  | \n",
       "| 5 | 8.3   | medio | \n",
       "| 3 | 8.4   | bajo  | \n",
       "\n",
       "\n"
      ],
      "text/plain": [
       "  valor abm  \n",
       "2 3.5   alto \n",
       "4 5.5   medio\n",
       "1 6.4   alto \n",
       "5 8.3   medio\n",
       "3 8.4   bajo "
      ]
     },
     "metadata": {},
     "output_type": "display_data"
    }
   ],
   "source": [
    "BBB_Nuevo=BBB[BBB_orden,];BBB_Nuevo"
   ]
  },
  {
   "cell_type": "markdown",
   "metadata": {},
   "source": [
    "Ordenación con un vector de números: Se define un vector de números"
   ]
  },
  {
   "cell_type": "code",
   "execution_count": 57,
   "metadata": {},
   "outputs": [
    {
     "data": {
      "text/html": [
       "<ol class=list-inline>\n",
       "\t<li>2.1</li>\n",
       "\t<li>1.4</li>\n",
       "\t<li>6</li>\n",
       "\t<li>3.5</li>\n",
       "\t<li>8</li>\n",
       "</ol>\n"
      ],
      "text/latex": [
       "\\begin{enumerate*}\n",
       "\\item 2.1\n",
       "\\item 1.4\n",
       "\\item 6\n",
       "\\item 3.5\n",
       "\\item 8\n",
       "\\end{enumerate*}\n"
      ],
      "text/markdown": [
       "1. 2.1\n",
       "2. 1.4\n",
       "3. 6\n",
       "4. 3.5\n",
       "5. 8\n",
       "\n",
       "\n"
      ],
      "text/plain": [
       "[1] 2.1 1.4 6.0 3.5 8.0"
      ]
     },
     "metadata": {},
     "output_type": "display_data"
    }
   ],
   "source": [
    "v=c(2.1,1.4,6,3.5,8);v"
   ]
  },
  {
   "cell_type": "markdown",
   "metadata": {},
   "source": [
    "# GRAFICOS\n",
    "Anteriormente hemos introducido lo que son los vectores y las matrices vamos a profundizar un poco más en estas estructuras y a introducir alguna nueva.\n",
    "## HISTOGRAMA\n",
    "En la gráfica cuantitativa el número rectángulos se puede fijar o dejar al programa de forma automática. El eje Y cuenta las frecuencias, porcentajes, densidades, observadas en la muestra\n"
   ]
  },
  {
   "cell_type": "code",
   "execution_count": 58,
   "metadata": {
    "collapsed": true
   },
   "outputs": [],
   "source": [
    "AAA <-c(60.2, 43.3, 51.2, 46.6, 32.5, 41.8, 45.9, 60.6, 32.3, \n",
    "       31.7, 39.4, 41.2, 60.2, 49.0, 40.5, 58.3, 42.7, 61.4,\n",
    "       26.0, 53.3, 58.7, 46.4, 39.1, 63.9, 51.5, 53.3, 41.6,\n",
    "       54.9, 55.2, 60.2, 47.3, 39.8, 46.8, 64.4, 57.9, 39.1,\n",
    "       44.8, 65.3, 69.7, 50.4, 54.2, 39.4, 46.6, 55.8, 53.6,\n",
    "       61.8, 44.3, 48.5, 53.9, 61.4, 38.1, 47.8)"
   ]
  },
  {
   "cell_type": "code",
   "execution_count": 59,
   "metadata": {},
   "outputs": [
    {
     "data": {
      "image/png": "[encoded data removed]",
      "text/plain": [
       "Plot with title \"Histogram of AAA\""
      ]
     },
     "metadata": {},
     "output_type": "display_data"
    }
   ],
   "source": [
    "hist(AAA,breaks=\"Sturges\",col=\"darkgray\")"
   ]
  },
  {
   "cell_type": "code",
   "execution_count": 60,
   "metadata": {},
   "outputs": [
    {
     "data": {
      "image/png": "[encoded data removed]",
      "text/plain": [
       "Plot with title \"este es el título\""
      ]
     },
     "metadata": {},
     "output_type": "display_data"
    }
   ],
   "source": [
    "hist(AAA,col=\"red\", xlab=\"Eje x\",  ylab=\"Eje y\",main=\"este es el título\")"
   ]
  },
  {
   "cell_type": "code",
   "execution_count": 61,
   "metadata": {},
   "outputs": [
    {
     "data": {
      "image/png": "[encoded data removed]",
      "text/plain": [
       "Plot with title \"Histogram of AAA\""
      ]
     },
     "metadata": {},
     "output_type": "display_data"
    }
   ],
   "source": [
    "hist(AAA,breaks=seq(from=10,to=100,by=10),col=\"green\")"
   ]
  },
  {
   "cell_type": "code",
   "execution_count": 62,
   "metadata": {},
   "outputs": [
    {
     "data": {
      "image/png": "[encoded data removed]",
      "text/plain": [
       "Plot with title \"Histogram of u\""
      ]
     },
     "metadata": {},
     "output_type": "display_data"
    }
   ],
   "source": [
    "set.seed(121343)\n",
    "u <- rnorm(100)\n",
    "hist(u)"
   ]
  },
  {
   "cell_type": "code",
   "execution_count": 63,
   "metadata": {},
   "outputs": [
    {
     "data": {
      "image/png": "[encoded data removed]",
      "text/plain": [
       "Plot with title \"Histogram of u\""
      ]
     },
     "metadata": {},
     "output_type": "display_data"
    }
   ],
   "source": [
    "hist(u, density=20)"
   ]
  },
  {
   "cell_type": "code",
   "execution_count": 64,
   "metadata": {},
   "outputs": [
    {
     "data": {
      "image/png": "[encoded data removed]",
      "text/plain": [
       "Plot with title \"Histogram of u\""
      ]
     },
     "metadata": {},
     "output_type": "display_data"
    }
   ],
   "source": [
    "hist(u, density=20, breaks=20)"
   ]
  },
  {
   "cell_type": "code",
   "execution_count": 65,
   "metadata": {},
   "outputs": [
    {
     "data": {
      "image/png": "[encoded data removed]",
      "text/plain": [
       "Plot with title \"Histogram of u\""
      ]
     },
     "metadata": {},
     "output_type": "display_data"
    }
   ],
   "source": [
    "hist(u, density=20, breaks=-3:3, \n",
    "     ylim=c(0,.5), prob=TRUE)"
   ]
  },
  {
   "cell_type": "code",
   "execution_count": 66,
   "metadata": {},
   "outputs": [
    {
     "data": {
      "image/png": "[encoded data removed]",
      "text/plain": [
       "Plot with title \"Curva de la Normal e histograma\""
      ]
     },
     "metadata": {},
     "output_type": "display_data"
    }
   ],
   "source": [
    "m<-mean(u)\n",
    "std<-sqrt(var(u))\n",
    "hist(u, density=20, breaks=20, prob=TRUE, xlab=\"variable X\", ylab=\"probabilidad\",ylim=c(0, 0.7), main=\"Curva de la Normal e histograma\")\n",
    "curve(dnorm(x, mean=m,sd=std), col=\"red\", lwd=2, add=TRUE)\n"
   ]
  },
  {
   "cell_type": "code",
   "execution_count": 67,
   "metadata": {},
   "outputs": [
    {
     "data": {
      "image/png": "[encoded data removed]",
      "text/plain": [
       "Plot with title \"Histogram of u\""
      ]
     },
     "metadata": {},
     "output_type": "display_data"
    },
    {
     "data": {
      "image/png": "[encoded data removed]",
      "text/plain": [
       "Plot with title \"Histogram of u\""
      ]
     },
     "metadata": {},
     "output_type": "display_data"
    }
   ],
   "source": [
    "aa<-hist(u)\n",
    "plot(aa, ylim=c(0, 40), col=\"lightgray\", \n",
    "    xlab=\"\", main=\"Histogram of u\")\n",
    "text(aa$mids, aa$counts+2, label=c(aa$counts))\n"
   ]
  },
  {
   "cell_type": "code",
   "execution_count": 68,
   "metadata": {},
   "outputs": [
    {
     "data": {
      "image/png": "[encoded data removed]",
      "text/plain": [
       "plot without title"
      ]
     },
     "metadata": {},
     "output_type": "display_data"
    }
   ],
   "source": [
    "boxplot(AAA)"
   ]
  },
  {
   "cell_type": "code",
   "execution_count": 69,
   "metadata": {
    "collapsed": true
   },
   "outputs": [],
   "source": [
    "BP <- read.table('http://www.ats.ucla.edu/stat/r/modules/hsb2.csv', header=T, sep=\",\")"
   ]
  },
  {
   "cell_type": "code",
   "execution_count": 70,
   "metadata": {},
   "outputs": [
    {
     "data": {
      "text/html": [
       "<pre class=language-r><code>function (x, file = \"data\", ncolumns = if (is.character(x)) 1 else 5, \n",
       "<span style=white-space:pre-wrap>    append = FALSE, sep = \" \") </span>\n",
       "cat(x, file = file, sep = c(rep.int(sep, ncolumns - 1), \"\\n\"), \n",
       "<span style=white-space:pre-wrap>    append = append)</span></code></pre>"
      ],
      "text/latex": [
       "\\begin{minted}{r}\n",
       "function (x, file = \"data\", ncolumns = if (is.character(x)) 1 else 5, \n",
       "    append = FALSE, sep = \" \") \n",
       "cat(x, file = file, sep = c(rep.int(sep, ncolumns - 1), \"\\textbackslash{}n\"), \n",
       "    append = append)\n",
       "\\end{minted}"
      ],
      "text/markdown": [
       "```r\n",
       "function (x, file = \"data\", ncolumns = if (is.character(x)) 1 else 5, \n",
       "    append = FALSE, sep = \" \") \n",
       "cat(x, file = file, sep = c(rep.int(sep, ncolumns - 1), \"\\n\"), \n",
       "    append = append)\n",
       "```"
      ],
      "text/plain": [
       "function (x, file = \"data\", ncolumns = if (is.character(x)) 1 else 5, \n",
       "    append = FALSE, sep = \" \") \n",
       "cat(x, file = file, sep = c(rep.int(sep, ncolumns - 1), \"\\n\"), \n",
       "    append = append)\n",
       "<bytecode: 0x00000000067b73a0>\n",
       "<environment: namespace:base>"
      ]
     },
     "metadata": {},
     "output_type": "display_data"
    }
   ],
   "source": [
    "write"
   ]
  },
  {
   "cell_type": "code",
   "execution_count": null,
   "metadata": {
    "collapsed": true
   },
   "outputs": [],
   "source": []
  }
 ],
 "metadata": {
  "kernelspec": {
   "display_name": "R",
   "language": "R",
   "name": "ir"
  },
  "language_info": {
   "codemirror_mode": "r",
   "file_extension": ".r",
   "mimetype": "text/x-r-source",
   "name": "R",
   "pygments_lexer": "r",
   "version": "3.4.2"
  }
 },
 "nbformat": 4,
 "nbformat_minor": 2
}
